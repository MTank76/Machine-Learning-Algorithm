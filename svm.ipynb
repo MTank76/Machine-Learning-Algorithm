{
 "cells": [
  {
   "cell_type": "code",
   "execution_count": 2,
   "metadata": {},
   "outputs": [],
   "source": [
    "# importing required libraries\n",
    "import numpy as np\n",
    "import pandas as pd\n",
    "import matplotlib.pyplot as plt\n"
   ]
  },
  {
   "cell_type": "code",
   "execution_count": 3,
   "metadata": {},
   "outputs": [
    {
     "name": "stdout",
     "output_type": "stream",
     "text": [
      "[['Alabama' 'Alaska' 'Arizona' 'Arkansas' 'California' 'Colorado'\n",
      "  'Connecticut' 'Delaware' 'District of Columbia' 'Florida' 'Georgia'\n",
      "  'Hawaii' 'Idaho' 'Illinois' 'Indiana' 'Iowa' 'Kansas' 'Kentucky'\n",
      "  'Louisiana' 'Maine' 'Maryland' 'Massachusetts' 'Michigan' 'Minnesota'\n",
      "  'Mississippi' 'Missouri' 'Montana' 'Nebraska' 'Nevada' 'New Hampshire'\n",
      "  'New Jersey' 'New Mexico' 'New York' 'North Carolina' 'North Dakota'\n",
      "  'Ohio' 'Oklahoma' 'Oregon' 'Pennsylvania' 'Rhode Island'\n",
      "  'South Carolina' 'South Dakota' 'Tennessee' 'Texas' 'Utah' 'Vermont'\n",
      "  'Virginia' 'Washington' 'West Virginia' 'Wisconsin' 'Wyoming']]\n"
     ]
    },
    {
     "data": {
      "text/plain": [
       "(None,\n",
       " array([299.2, 246.6, 205.0, 305.0, 248.1, 222.1, 223.6, 239.8, 288.6,\n",
       "        231.9, 265.2, 185.5, 165.3, 285.6, 276.9, 284.2, 261.8, 293.0,\n",
       "        303.4, 117.8, 248.9, 224.1, 270.1, 227.1, 321.2, 277.2, 0.0, 277.8,\n",
       "        215.3, 128.5, 255.9, 217.8, 225.6, 280.5, 0.0, 278.3, 289.5, 252.7,\n",
       "        285.4, 187.2, 283.7, 108.0, 312.2, 272.5, 162.8, 0.0, 271.2, 237.5,\n",
       "        280.5, 300.1, 0.0], dtype=object))"
      ]
     },
     "execution_count": 3,
     "metadata": {},
     "output_type": "execute_result"
    }
   ],
   "source": [
    "# reading csv file and extracting class column to y.\n",
    "x = pd.read_csv(\"cancer.csv\")\n",
    "a = np.array(x)\n",
    "y = a[:,30] # classes having 0 and 1\n",
    "# extracting two features\n",
    "x = np.column_stack((x.State))\n",
    "x.shape\n",
    "print (x),(y)"
   ]
  }
 ],
 "metadata": {
  "kernelspec": {
   "display_name": "Python 3",
   "language": "python",
   "name": "python3"
  },
  "language_info": {
   "codemirror_mode": {
    "name": "ipython",
    "version": 3
   },
   "file_extension": ".py",
   "mimetype": "text/x-python",
   "name": "python",
   "nbconvert_exporter": "python",
   "pygments_lexer": "ipython3",
   "version": "3.8.9"
  },
  "orig_nbformat": 4
 },
 "nbformat": 4,
 "nbformat_minor": 2
}
